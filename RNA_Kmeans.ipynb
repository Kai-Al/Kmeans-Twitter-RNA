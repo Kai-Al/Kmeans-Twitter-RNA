{
  "nbformat": 4,
  "nbformat_minor": 0,
  "metadata": {
    "colab": {
      "provenance": [],
      "authorship_tag": "ABX9TyOqWCiJ+IIB+z0HVk6RyTL9",
      "include_colab_link": true
    },
    "kernelspec": {
      "name": "python3",
      "display_name": "Python 3"
    },
    "language_info": {
      "name": "python"
    }
  },
  "cells": [
    {
      "cell_type": "markdown",
      "metadata": {
        "id": "view-in-github",
        "colab_type": "text"
      },
      "source": [
        "<a href=\"https://colab.research.google.com/github/Kai-Al/Kmeans-Twitter-RNA/blob/main/RNA_Kmeans.ipynb\" target=\"_parent\"><img src=\"https://colab.research.google.com/assets/colab-badge.svg\" alt=\"Open In Colab\"/></a>"
      ]
    },
    {
      "cell_type": "markdown",
      "source": [
        "# Parcial 3"
      ],
      "metadata": {
        "id": "giCn6VTGRQar"
      }
    },
    {
      "cell_type": "markdown",
      "source": [
        "Equipo de Arley y Kai"
      ],
      "metadata": {
        "id": "MC189yi5iEFt"
      }
    },
    {
      "cell_type": "code",
      "execution_count": 4,
      "metadata": {
        "id": "sBPGSVcdPJTH"
      },
      "outputs": [],
      "source": [
        "from sklearn.datasets import make_blobs\n",
        "import numpy as np\n",
        "import pandas as pd\n",
        "from sklearn.model_selection import train_test_split, StratifiedShuffleSplit\n",
        "from sklearn.utils import class_weight\n",
        "from matplotlib import pyplot as plt\n",
        "import tensorflow as tf\n",
        "from tensorflow import keras\n",
        "from sklearn.neural_network import MLPClassifier\n",
        "from sklearn.model_selection import RandomizedSearchCV\n",
        "from scipy.stats import randint\n",
        "from sklearn.metrics import accuracy_score"
      ]
    },
    {
      "cell_type": "code",
      "source": [
        "X, y = make_blobs(\n",
        "        n_samples    = 500,\n",
        "        n_features   = 2,\n",
        "        centers      = 3,\n",
        "        cluster_std  = 1.2,\n",
        "        shuffle      = True,\n",
        "        random_state = 0\n",
        "       )"
      ],
      "metadata": {
        "id": "Wc9L_jWYTM-p"
      },
      "execution_count": 5,
      "outputs": []
    },
    {
      "cell_type": "code",
      "source": [
        "import numpy as np\n",
        "from sklearn.neural_network import MLPClassifier\n",
        "from sklearn.model_selection import train_test_split\n",
        "from sklearn.metrics import accuracy_score\n",
        "from itertools import product\n",
        "\n",
        "# Supongamos que tienes tus datos de entrenamiento en X_train y Y_train\n",
        "\n",
        "matriz =\n",
        "neuronas_range = [5, 10, 15, 20]\n",
        "num_layers_range = [1, 2, 3]\n",
        "\n",
        "accuracies = []\n",
        "\n",
        "for num_layers in num_layers_range:\n",
        "    for neuronas_combination in product(neuronas_range, repeat=num_layers):\n",
        "        hidden_layers = tuple(neuronas_combination)\n",
        "\n",
        "        model = MLPClassifier(hidden_layer_sizes=hidden_layers, max_iter=1000, random_state=42)\n",
        "\n",
        "\n",
        "        #Dividir los datos en conjuntos de entrenamiento y prueba\n",
        "        X_train, X_test, Y_train, Y_test = train_test_split(X, y, test_size=0.3, random_state=42)\n",
        "\n",
        "        model.fit(X_train, Y_train)\n",
        "        Y_pred = model.predict(X_test)\n",
        "\n",
        "        accuracy = accuracy_score(Y_test, Y_pred)\n",
        "        accuracies.append((hidden_layers, accuracy))\n",
        "\n",
        "# Imprimir la precisión para cada configuración de capas ocultas y cantidad de neuronas\n",
        "for hidden_layers, accuracy in accuracies:\n",
        "    print(f'Configuración de capas ocultas: {hidden_layers}, Precisión: {accuracy}')\n",
        "\n",
        "\n"
      ],
      "metadata": {
        "colab": {
          "base_uri": "https://localhost:8080/"
        },
        "id": "2sw_Vo41gfVu",
        "outputId": "af6869e6-22cf-466f-83ca-7d84f9be6d67"
      },
      "execution_count": 6,
      "outputs": [
        {
          "output_type": "stream",
          "name": "stderr",
          "text": [
            "/usr/local/lib/python3.10/dist-packages/sklearn/neural_network/_multilayer_perceptron.py:686: ConvergenceWarning: Stochastic Optimizer: Maximum iterations (1000) reached and the optimization hasn't converged yet.\n",
            "  warnings.warn(\n",
            "/usr/local/lib/python3.10/dist-packages/sklearn/neural_network/_multilayer_perceptron.py:686: ConvergenceWarning: Stochastic Optimizer: Maximum iterations (1000) reached and the optimization hasn't converged yet.\n",
            "  warnings.warn(\n",
            "/usr/local/lib/python3.10/dist-packages/sklearn/neural_network/_multilayer_perceptron.py:693: UserWarning: Training interrupted by user.\n",
            "  warnings.warn(\"Training interrupted by user.\")\n"
          ]
        },
        {
          "output_type": "stream",
          "name": "stdout",
          "text": [
            "Configuración de capas ocultas: (5,), Precisión: 0.8733333333333333\n",
            "Configuración de capas ocultas: (10,), Precisión: 0.8666666666666667\n",
            "Configuración de capas ocultas: (15,), Precisión: 0.8533333333333334\n",
            "Configuración de capas ocultas: (20,), Precisión: 0.86\n",
            "Configuración de capas ocultas: (5, 5), Precisión: 0.8533333333333334\n",
            "Configuración de capas ocultas: (5, 10), Precisión: 0.8666666666666667\n",
            "Configuración de capas ocultas: (5, 15), Precisión: 0.8666666666666667\n",
            "Configuración de capas ocultas: (5, 20), Precisión: 0.8666666666666667\n",
            "Configuración de capas ocultas: (10, 5), Precisión: 0.86\n",
            "Configuración de capas ocultas: (10, 10), Precisión: 0.86\n",
            "Configuración de capas ocultas: (10, 15), Precisión: 0.86\n",
            "Configuración de capas ocultas: (10, 20), Precisión: 0.86\n",
            "Configuración de capas ocultas: (15, 5), Precisión: 0.86\n",
            "Configuración de capas ocultas: (15, 10), Precisión: 0.86\n",
            "Configuración de capas ocultas: (15, 15), Precisión: 0.8666666666666667\n",
            "Configuración de capas ocultas: (15, 20), Precisión: 0.8733333333333333\n",
            "Configuración de capas ocultas: (20, 5), Precisión: 0.86\n",
            "Configuración de capas ocultas: (20, 10), Precisión: 0.86\n",
            "Configuración de capas ocultas: (20, 15), Precisión: 0.86\n",
            "Configuración de capas ocultas: (20, 20), Precisión: 0.86\n",
            "Configuración de capas ocultas: (5, 5, 5), Precisión: 0.8666666666666667\n",
            "Configuración de capas ocultas: (5, 5, 10), Precisión: 0.8866666666666667\n",
            "Configuración de capas ocultas: (5, 5, 15), Precisión: 0.8666666666666667\n",
            "Configuración de capas ocultas: (5, 5, 20), Precisión: 0.8733333333333333\n",
            "Configuración de capas ocultas: (5, 10, 5), Precisión: 0.86\n",
            "Configuración de capas ocultas: (5, 10, 10), Precisión: 0.8666666666666667\n",
            "Configuración de capas ocultas: (5, 10, 15), Precisión: 0.86\n",
            "Configuración de capas ocultas: (5, 10, 20), Precisión: 0.8666666666666667\n",
            "Configuración de capas ocultas: (5, 15, 5), Precisión: 0.8666666666666667\n",
            "Configuración de capas ocultas: (5, 15, 10), Precisión: 0.8666666666666667\n",
            "Configuración de capas ocultas: (5, 15, 15), Precisión: 0.8666666666666667\n",
            "Configuración de capas ocultas: (5, 15, 20), Precisión: 0.8666666666666667\n",
            "Configuración de capas ocultas: (5, 20, 5), Precisión: 0.86\n",
            "Configuración de capas ocultas: (5, 20, 10), Precisión: 0.8666666666666667\n",
            "Configuración de capas ocultas: (5, 20, 15), Precisión: 0.8666666666666667\n",
            "Configuración de capas ocultas: (5, 20, 20), Precisión: 0.8666666666666667\n",
            "Configuración de capas ocultas: (10, 5, 5), Precisión: 0.8666666666666667\n",
            "Configuración de capas ocultas: (10, 5, 10), Precisión: 0.8666666666666667\n",
            "Configuración de capas ocultas: (10, 5, 15), Precisión: 0.8666666666666667\n",
            "Configuración de capas ocultas: (10, 5, 20), Precisión: 0.8666666666666667\n",
            "Configuración de capas ocultas: (10, 10, 5), Precisión: 0.8666666666666667\n",
            "Configuración de capas ocultas: (10, 10, 10), Precisión: 0.8666666666666667\n",
            "Configuración de capas ocultas: (10, 10, 15), Precisión: 0.8666666666666667\n",
            "Configuración de capas ocultas: (10, 10, 20), Precisión: 0.86\n",
            "Configuración de capas ocultas: (10, 15, 5), Precisión: 0.8733333333333333\n",
            "Configuración de capas ocultas: (10, 15, 10), Precisión: 0.8666666666666667\n",
            "Configuración de capas ocultas: (10, 15, 15), Precisión: 0.8733333333333333\n",
            "Configuración de capas ocultas: (10, 15, 20), Precisión: 0.8666666666666667\n",
            "Configuración de capas ocultas: (10, 20, 5), Precisión: 0.8733333333333333\n",
            "Configuración de capas ocultas: (10, 20, 10), Precisión: 0.8666666666666667\n",
            "Configuración de capas ocultas: (10, 20, 15), Precisión: 0.8666666666666667\n",
            "Configuración de capas ocultas: (10, 20, 20), Precisión: 0.8666666666666667\n",
            "Configuración de capas ocultas: (15, 5, 5), Precisión: 0.88\n",
            "Configuración de capas ocultas: (15, 5, 10), Precisión: 0.8666666666666667\n",
            "Configuración de capas ocultas: (15, 5, 15), Precisión: 0.8866666666666667\n",
            "Configuración de capas ocultas: (15, 5, 20), Precisión: 0.8733333333333333\n",
            "Configuración de capas ocultas: (15, 10, 5), Precisión: 0.8666666666666667\n",
            "Configuración de capas ocultas: (15, 10, 10), Precisión: 0.8666666666666667\n",
            "Configuración de capas ocultas: (15, 10, 15), Precisión: 0.8666666666666667\n",
            "Configuración de capas ocultas: (15, 10, 20), Precisión: 0.86\n",
            "Configuración de capas ocultas: (15, 15, 5), Precisión: 0.8466666666666667\n",
            "Configuración de capas ocultas: (15, 15, 10), Precisión: 0.8666666666666667\n",
            "Configuración de capas ocultas: (15, 15, 15), Precisión: 0.8666666666666667\n",
            "Configuración de capas ocultas: (15, 15, 20), Precisión: 0.86\n",
            "Configuración de capas ocultas: (15, 20, 5), Precisión: 0.8666666666666667\n",
            "Configuración de capas ocultas: (15, 20, 10), Precisión: 0.8666666666666667\n",
            "Configuración de capas ocultas: (15, 20, 15), Precisión: 0.8666666666666667\n",
            "Configuración de capas ocultas: (15, 20, 20), Precisión: 0.86\n",
            "Configuración de capas ocultas: (20, 5, 5), Precisión: 0.8666666666666667\n",
            "Configuración de capas ocultas: (20, 5, 10), Precisión: 0.86\n",
            "Configuración de capas ocultas: (20, 5, 15), Precisión: 0.8666666666666667\n",
            "Configuración de capas ocultas: (20, 5, 20), Precisión: 0.86\n",
            "Configuración de capas ocultas: (20, 10, 5), Precisión: 0.8666666666666667\n",
            "Configuración de capas ocultas: (20, 10, 10), Precisión: 0.8666666666666667\n",
            "Configuración de capas ocultas: (20, 10, 15), Precisión: 0.8666666666666667\n",
            "Configuración de capas ocultas: (20, 10, 20), Precisión: 0.8733333333333333\n",
            "Configuración de capas ocultas: (20, 15, 5), Precisión: 0.8666666666666667\n",
            "Configuración de capas ocultas: (20, 15, 10), Precisión: 0.8666666666666667\n",
            "Configuración de capas ocultas: (20, 15, 15), Precisión: 0.8666666666666667\n",
            "Configuración de capas ocultas: (20, 15, 20), Precisión: 0.8666666666666667\n",
            "Configuración de capas ocultas: (20, 20, 5), Precisión: 0.8666666666666667\n",
            "Configuración de capas ocultas: (20, 20, 10), Precisión: 0.86\n",
            "Configuración de capas ocultas: (20, 20, 15), Precisión: 0.8666666666666667\n",
            "Configuración de capas ocultas: (20, 20, 20), Precisión: 0.8533333333333334\n"
          ]
        },
        {
          "output_type": "stream",
          "name": "stderr",
          "text": [
            "/usr/local/lib/python3.10/dist-packages/sklearn/neural_network/_multilayer_perceptron.py:686: ConvergenceWarning: Stochastic Optimizer: Maximum iterations (1000) reached and the optimization hasn't converged yet.\n",
            "  warnings.warn(\n"
          ]
        }
      ]
    },
    {
      "cell_type": "code",
      "source": [
        "import numpy as np\n",
        "from sklearn.neural_network import MLPClassifier\n",
        "from sklearn.model_selection import train_test_split\n",
        "from sklearn.metrics import accuracy_score\n",
        "from itertools import product\n",
        "import pandas as pd\n",
        "\n",
        "# Supongamos que tienes tus datos de entrenamiento en X_train y Y_train\n",
        "\n",
        "neuronas_range = [5, 10, 15, 20]\n",
        "num_layers_range = [1, 2, 3]\n",
        "\n",
        "data = []\n",
        "\n",
        "for num_layers in num_layers_range:\n",
        "    for neuronas_combination in product(neuronas_range, repeat=num_layers):\n",
        "        hidden_layers = tuple(neuronas_combination)\n",
        "\n",
        "        model = MLPClassifier(hidden_layer_sizes=hidden_layers, max_iter=1000, random_state=42)\n",
        "\n",
        "        #Dividir los datos en conjuntos de entrenamiento y prueba\n",
        "        X_train, X_test, Y_train, Y_test = train_test_split(X, y, test_size=0.3, random_state=42)\n",
        "\n",
        "        model.fit(X_train, Y_train)\n",
        "\n",
        "        #Se predice si las X van a estar donde es\n",
        "        Y_pred = model.predict(X_test)\n",
        "\n",
        "        #Validar la presición del modelo\n",
        "        accuracy = accuracy_score(Y_test, Y_pred)\n",
        "\n",
        "        #Guardar la información para imprimir en tabla\n",
        "        data.append([num_layers, hidden_layers ,accuracy])\n",
        "\n",
        "# Crear un DataFrame de pandas\n",
        "df = pd.DataFrame(data, columns=['Número de capas','Distribución de neuronas', 'Precisión'])\n",
        "\n",
        "# Imprimir la tabla\n",
        "print(df)"
      ],
      "metadata": {
        "colab": {
          "base_uri": "https://localhost:8080/"
        },
        "id": "GngpEep1fQVF",
        "outputId": "c647323c-7d5f-4392-a910-4e83de2d2fb2"
      },
      "execution_count": 11,
      "outputs": [
        {
          "output_type": "stream",
          "name": "stderr",
          "text": [
            "/usr/local/lib/python3.10/dist-packages/sklearn/neural_network/_multilayer_perceptron.py:686: ConvergenceWarning: Stochastic Optimizer: Maximum iterations (1000) reached and the optimization hasn't converged yet.\n",
            "  warnings.warn(\n",
            "/usr/local/lib/python3.10/dist-packages/sklearn/neural_network/_multilayer_perceptron.py:686: ConvergenceWarning: Stochastic Optimizer: Maximum iterations (1000) reached and the optimization hasn't converged yet.\n",
            "  warnings.warn(\n"
          ]
        },
        {
          "output_type": "stream",
          "name": "stdout",
          "text": [
            "    Número de capas Distribución de neuronas  Precisión\n",
            "0                 1                     (5,)   0.873333\n",
            "1                 1                    (10,)   0.866667\n",
            "2                 1                    (15,)   0.853333\n",
            "3                 1                    (20,)   0.860000\n",
            "4                 2                   (5, 5)   0.853333\n",
            "..              ...                      ...        ...\n",
            "79                3             (20, 15, 20)   0.866667\n",
            "80                3              (20, 20, 5)   0.866667\n",
            "81                3             (20, 20, 10)   0.860000\n",
            "82                3             (20, 20, 15)   0.866667\n",
            "83                3             (20, 20, 20)   0.853333\n",
            "\n",
            "[84 rows x 3 columns]\n"
          ]
        },
        {
          "output_type": "stream",
          "name": "stderr",
          "text": [
            "/usr/local/lib/python3.10/dist-packages/sklearn/neural_network/_multilayer_perceptron.py:686: ConvergenceWarning: Stochastic Optimizer: Maximum iterations (1000) reached and the optimization hasn't converged yet.\n",
            "  warnings.warn(\n"
          ]
        }
      ]
    },
    {
      "cell_type": "code",
      "source": [
        "import matplotlib.pyplot as plt\n",
        "\n",
        "# Supongamos que tienes tu DataFrame df con las tres columnas: 'Num of Layers', 'Hidden Layers', y 'Accuracy'\n",
        "\n",
        "# Graficar el DataFrame df como un gráfico de barras\n",
        "plt.figure(figsize=(10, 6))\n",
        "plt.bar(df['Número de capas'], df['Precisión'], width=0.3)\n",
        "plt.xlabel('Número de Capas')\n",
        "plt.ylabel('Precisión')\n",
        "plt.title('Precisión vs. Número de Capas')\n",
        "plt.xticks(df['Número de capas'])\n",
        "plt.grid(True)\n",
        "plt.show()"
      ],
      "metadata": {
        "colab": {
          "base_uri": "https://localhost:8080/",
          "height": 565
        },
        "id": "q1obCFfzj2hs",
        "outputId": "9db85e04-9e19-4d5e-8b59-a4fe86f6b166"
      },
      "execution_count": 15,
      "outputs": [
        {
          "output_type": "display_data",
          "data": {
            "text/plain": [
              "<Figure size 1000x600 with 1 Axes>"
            ],
            "image/png": "[encoded data removed]"
          },
          "metadata": {}
        }
      ]
    }
  ]
}