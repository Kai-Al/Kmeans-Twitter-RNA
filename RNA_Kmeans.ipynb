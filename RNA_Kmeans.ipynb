{
  "nbformat": 4,
  "nbformat_minor": 0,
  "metadata": {
    "colab": {
      "provenance": [],
      "authorship_tag": "ABX9TyMhXErrYCK1rCkf2Sqse0b7",
      "include_colab_link": true
    },
    "kernelspec": {
      "name": "python3",
      "display_name": "Python 3"
    },
    "language_info": {
      "name": "python"
    }
  },
  "cells": [
    {
      "cell_type": "markdown",
      "metadata": {
        "id": "view-in-github",
        "colab_type": "text"
      },
      "source": [
        "<a href=\"https://colab.research.google.com/github/Kai-Al/Kmeans-Twitter-RNA/blob/main/RNA_Kmeans.ipynb\" target=\"_parent\"><img src=\"https://colab.research.google.com/assets/colab-badge.svg\" alt=\"Open In Colab\"/></a>"
      ]
    },
    {
      "cell_type": "markdown",
      "source": [
        "# Parcial 3"
      ],
      "metadata": {
        "id": "giCn6VTGRQar"
      }
    },
    {
      "cell_type": "markdown",
      "source": [
        "Equipo de Arley y Kai"
      ],
      "metadata": {
        "id": "MC189yi5iEFt"
      }
    },
    {
      "cell_type": "code",
      "execution_count": 4,
      "metadata": {
        "id": "sBPGSVcdPJTH"
      },
      "outputs": [],
      "source": [
        "from sklearn.datasets import make_blobs\n",
        "import numpy as np\n",
        "import pandas as pd\n",
        "from sklearn.model_selection import train_test_split, StratifiedShuffleSplit\n",
        "from sklearn.utils import class_weight\n",
        "from matplotlib import pyplot as plt\n",
        "import tensorflow as tf\n",
        "from tensorflow import keras\n",
        "from sklearn.neural_network import MLPClassifier\n",
        "from sklearn.model_selection import RandomizedSearchCV\n",
        "from scipy.stats import randint\n",
        "from sklearn.metrics import accuracy_score"
      ]
    },
    {
      "cell_type": "code",
      "source": [
        "X, y = make_blobs(\n",
        "        n_samples    = 500,\n",
        "        n_features   = 2,\n",
        "        centers      = 3,\n",
        "        cluster_std  = 1.2,\n",
        "        shuffle      = True,\n",
        "        random_state = 0\n",
        "       )"
      ],
      "metadata": {
        "id": "Wc9L_jWYTM-p"
      },
      "execution_count": 5,
      "outputs": []
    },
    {
      "cell_type": "code",
      "source": [
        "import numpy as np\n",
        "from sklearn.neural_network import MLPClassifier\n",
        "from sklearn.model_selection import train_test_split\n",
        "from sklearn.metrics import accuracy_score\n",
        "from itertools import product\n",
        "import pandas as pd\n",
        "\n",
        "# Supongamos que tienes tus datos de entrenamiento en X_train y Y_train\n",
        "\n",
        "neuronas_range = [5, 10, 15, 20]\n",
        "num_layers_range = [1, 2, 3]\n",
        "\n",
        "data = []\n",
        "\n",
        "for num_layers in num_layers_range:\n",
        "    for neuronas_combination in product(neuronas_range, repeat=num_layers):\n",
        "        hidden_layers = tuple(neuronas_combination)\n",
        "\n",
        "        model = MLPClassifier(hidden_layer_sizes=hidden_layers, max_iter=1000, random_state=42)\n",
        "\n",
        "        #Dividir los datos en conjuntos de entrenamiento y prueba\n",
        "        X_train, X_test, Y_train, Y_test = train_test_split(X, y, test_size=0.3, random_state=42)\n",
        "\n",
        "        model.fit(X_train, Y_train)\n",
        "\n",
        "        #Se predice si las X van a estar donde es\n",
        "        Y_pred = model.predict(X_test)\n",
        "\n",
        "        #Validar la presición del modelo\n",
        "        accuracy = accuracy_score(Y_test, Y_pred)\n",
        "\n",
        "        #Guardar la información para imprimir en tabla\n",
        "        data.append([num_layers, hidden_layers ,accuracy])\n",
        "\n",
        "# Crear un DataFrame de pandas\n",
        "df = pd.DataFrame(data, columns=['Num of Layers','Hidden_layers', 'Accuracy'])\n",
        "\n",
        "# Imprimir la tabla\n",
        "print(df)"
      ],
      "metadata": {
        "colab": {
          "base_uri": "https://localhost:8080/"
        },
        "id": "GngpEep1fQVF",
        "outputId": "1da4a44f-0d60-4ead-f5f6-85ea0a9fb735"
      },
      "execution_count": 17,
      "outputs": [
        {
          "output_type": "stream",
          "name": "stderr",
          "text": [
            "/usr/local/lib/python3.10/dist-packages/sklearn/neural_network/_multilayer_perceptron.py:686: ConvergenceWarning: Stochastic Optimizer: Maximum iterations (1000) reached and the optimization hasn't converged yet.\n",
            "  warnings.warn(\n",
            "/usr/local/lib/python3.10/dist-packages/sklearn/neural_network/_multilayer_perceptron.py:686: ConvergenceWarning: Stochastic Optimizer: Maximum iterations (1000) reached and the optimization hasn't converged yet.\n",
            "  warnings.warn(\n"
          ]
        },
        {
          "output_type": "stream",
          "name": "stdout",
          "text": [
            "    Num of Layers Hidden_layers  Accuracy\n",
            "0               1          (5,)  0.873333\n",
            "1               1         (10,)  0.866667\n",
            "2               1         (15,)  0.853333\n",
            "3               1         (20,)  0.860000\n",
            "4               2        (5, 5)  0.853333\n",
            "..            ...           ...       ...\n",
            "79              3  (20, 15, 20)  0.866667\n",
            "80              3   (20, 20, 5)  0.866667\n",
            "81              3  (20, 20, 10)  0.860000\n",
            "82              3  (20, 20, 15)  0.866667\n",
            "83              3  (20, 20, 20)  0.853333\n",
            "\n",
            "[84 rows x 3 columns]\n"
          ]
        },
        {
          "output_type": "stream",
          "name": "stderr",
          "text": [
            "/usr/local/lib/python3.10/dist-packages/sklearn/neural_network/_multilayer_perceptron.py:686: ConvergenceWarning: Stochastic Optimizer: Maximum iterations (1000) reached and the optimization hasn't converged yet.\n",
            "  warnings.warn(\n"
          ]
        }
      ]
    },
    {
      "cell_type": "code",
      "source": [
        "df_sorted = df.sort_values(by=df.columns[2], ascending=False)\n",
        "\n",
        "# Imprimir el DataFrame ordenado\n",
        "print(df_sorted)\n",
        "\n",
        "#El mejor modelo es el 0, que contiene una capa oculta y 5 neuronas, que tiene un porcentaje de presición del 87,3%"
      ],
      "metadata": {
        "colab": {
          "base_uri": "https://localhost:8080/"
        },
        "id": "fkND7RlTle_k",
        "outputId": "f4914dda-6d40-46da-cad2-3eb44975c29b"
      },
      "execution_count": 21,
      "outputs": [
        {
          "output_type": "stream",
          "name": "stdout",
          "text": [
            "    Num of Layers Hidden_layers  Accuracy\n",
            "21              3    (5, 5, 10)  0.886667\n",
            "54              3   (15, 5, 15)  0.886667\n",
            "52              3    (15, 5, 5)  0.880000\n",
            "0               1          (5,)  0.873333\n",
            "23              3    (5, 5, 20)  0.873333\n",
            "..            ...           ...       ...\n",
            "43              3  (10, 10, 20)  0.860000\n",
            "4               2        (5, 5)  0.853333\n",
            "2               1         (15,)  0.853333\n",
            "83              3  (20, 20, 20)  0.853333\n",
            "60              3   (15, 15, 5)  0.846667\n",
            "\n",
            "[84 rows x 3 columns]\n"
          ]
        }
      ]
    }
  ]
}